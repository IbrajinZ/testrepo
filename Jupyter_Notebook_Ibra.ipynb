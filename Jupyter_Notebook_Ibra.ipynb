{
 "cells": [
  {
   "cell_type": "markdown",
   "metadata": {},
   "source": [
    "<center>\n",
    "    <img src=\"https://cf-courses-data.s3.us.cloud-object-storage.appdomain.cloud/IBMDeveloperSkillsNetwork-DS0105EN-SkillsNetwork/labs/Module2/images/SN_web_lightmode.png\" width=\"300\" alt=\"cognitiveclass.ai logo\"  />\n",
    "</center>\n"
   ]
  },
  {
   "cell_type": "markdown",
   "metadata": {},
   "source": [
    "#### Add your code below following the instructions given in the course\n"
   ]
  },
  {
   "cell_type": "markdown",
   "metadata": {},
   "source": [
    "# My Jupyter Notebook on IBM Watson Studio"
   ]
  },
  {
   "cell_type": "markdown",
   "metadata": {},
   "source": [
    "**Ibrajin Zeitun**\n",
    "<br>\n",
    "Desired oocupation: Data scientist"
   ]
  },
  {
   "cell_type": "markdown",
   "metadata": {},
   "source": [
    "*I'm interested in data science because it is a rapidly growing field that is relevant to a wide range of industries and has the potential to solve complex problems and drive decision-making. So I want to use data science to improve my community.*"
   ]
  },
  {
   "cell_type": "markdown",
   "metadata": {},
   "source": [
    "### The code bellow is displaying the string: \"Hello stranger\"."
   ]
  },
  {
   "cell_type": "code",
   "execution_count": 1,
   "metadata": {},
   "outputs": [
    {
     "name": "stdout",
     "output_type": "stream",
     "text": [
      "Hello stranger\n"
     ]
    }
   ],
   "source": [
    "print('Hello stranger')"
   ]
  },
  {
   "cell_type": "markdown",
   "metadata": {},
   "source": [
    "### Table\n",
    "| Name | Height (m) | Weight (kg) |\n",
    "---|---|---\n",
    "| Carlos | 1.78 | 81 |\n",
    "| Maria | 1.55 | 52 |\n",
    "| Max | 1.75 | 66 |\n",
    "### Bulleted list\n",
    "<ul>\n",
    "    <li>Eggs</li>\n",
    "    <li>Milk</li>\n",
    "    <li>Cheese</li>\n",
    "</ul>\n",
    "<h3>Numbered list</h3>\n",
    "<ol>\n",
    "    <li>Eggs</li>\n",
    "    <li>Milk</li>\n",
    "    <li>Cheese</li>\n",
    "</ol>"
   ]
  }
 ],
 "metadata": {
  "kernelspec": {
   "display_name": "Python",
   "language": "python",
   "name": "conda-env-python-py"
  },
  "language_info": {
   "codemirror_mode": {
    "name": "ipython",
    "version": 3
   },
   "file_extension": ".py",
   "mimetype": "text/x-python",
   "name": "python",
   "nbconvert_exporter": "python",
   "pygments_lexer": "ipython3",
   "version": "3.7.12"
  }
 },
 "nbformat": 4,
 "nbformat_minor": 4
}
